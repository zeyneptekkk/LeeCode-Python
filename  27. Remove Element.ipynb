{
 "cells": [
  {
   "cell_type": "code",
   "execution_count": null,
   "id": "b5f8639f",
   "metadata": {},
   "outputs": [],
   "source": [
    "class Solution(object):\n",
    "    def removeElement(self, nums, val):  \n",
    "        \n",
    "        k=0    #val değerine eşit olmayan elemanların sayısını tutar\n",
    "\n",
    "        for i in range(len(nums)): #dizinin lenghti kadar döner\n",
    "            \n",
    "            if nums[i] != val:\n",
    "                \n",
    "                 nums[k] =nums[i]   #val değereine eşit olmayan elemanı nums[k] ya taşı\n",
    "                 k +=1\n",
    "        return k\n",
    "\n"
   ]
  }
 ],
 "metadata": {
  "kernelspec": {
   "display_name": "Python 3 (ipykernel)",
   "language": "python",
   "name": "python3"
  },
  "language_info": {
   "codemirror_mode": {
    "name": "ipython",
    "version": 3
   },
   "file_extension": ".py",
   "mimetype": "text/x-python",
   "name": "python",
   "nbconvert_exporter": "python",
   "pygments_lexer": "ipython3",
   "version": "3.11.5"
  }
 },
 "nbformat": 4,
 "nbformat_minor": 5
}

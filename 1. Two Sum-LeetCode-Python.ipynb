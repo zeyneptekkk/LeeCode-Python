{
 "cells": [
  {
   "cell_type": "code",
   "execution_count": null,
   "id": "aa6425d7",
   "metadata": {},
   "outputs": [],
   "source": [
    "class Solution(object):\n",
    "    def twoSum(self, nums, target):\n",
    "      \n",
    "         #ilk döngü dizinin her elemenını seçer\n",
    "        for i in range(len(nums)) :  \n",
    "\n",
    "         #ikinci döngü ,birinci döngüden sonra seçilen elemandan sonraki elamanları seçer \n",
    "            for j in range(i+1,len(nums)):\n",
    "\n",
    "         # iki elemanın değerini hedef değerle(target) ile karşılaştırırız\n",
    "                if nums[i]+ nums[j]==target:\n",
    "        # eğer değer targete eşittse ,diziyi döndür\n",
    "                    return[i,j]\n",
    "                    \n",
    "\n"
   ]
  }
 ],
 "metadata": {
  "kernelspec": {
   "display_name": "Python 3 (ipykernel)",
   "language": "python",
   "name": "python3"
  },
  "language_info": {
   "codemirror_mode": {
    "name": "ipython",
    "version": 3
   },
   "file_extension": ".py",
   "mimetype": "text/x-python",
   "name": "python",
   "nbconvert_exporter": "python",
   "pygments_lexer": "ipython3",
   "version": "3.11.5"
  }
 },
 "nbformat": 4,
 "nbformat_minor": 5
}

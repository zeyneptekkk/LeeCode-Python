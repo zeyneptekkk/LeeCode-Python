{
 "cells": [
  {
   "cell_type": "code",
   "execution_count": null,
   "id": "ffaf4d6b",
   "metadata": {},
   "outputs": [],
   "source": [
    "\n",
    "\n",
    "class Solution(object):\n",
    "    def isPalindrome(self, s):\n",
    "       # Alfanümerik karakterleri koru ve küçük harfe çevir\n",
    "        temiz_string = ''.join(karakter.lower() for karakter in s if karakter.isalnum())\n",
    "        # Palindrom kontrolü\n",
    "        return temiz_string == temiz_string[::-1]\n",
    "\n",
    "        "
   ]
  }
 ],
 "metadata": {
  "kernelspec": {
   "display_name": "Python 3 (ipykernel)",
   "language": "python",
   "name": "python3"
  },
  "language_info": {
   "codemirror_mode": {
    "name": "ipython",
    "version": 3
   },
   "file_extension": ".py",
   "mimetype": "text/x-python",
   "name": "python",
   "nbconvert_exporter": "python",
   "pygments_lexer": "ipython3",
   "version": "3.11.5"
  }
 },
 "nbformat": 4,
 "nbformat_minor": 5
}

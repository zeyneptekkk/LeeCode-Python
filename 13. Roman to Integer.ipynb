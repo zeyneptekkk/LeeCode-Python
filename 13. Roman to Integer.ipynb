{
 "cells": [
  {
   "cell_type": "code",
   "execution_count": 5,
   "id": "2c5944d1",
   "metadata": {},
   "outputs": [
    {
     "name": "stdout",
     "output_type": "stream",
     "text": [
      "999\n"
     ]
    }
   ],
   "source": [
    "class Solution(object):\n",
    "    def romanToInt(self, s):\n",
    "\n",
    "        \n",
    "        roma_degerleri={\n",
    "            'I':1,\n",
    "            'V':5,\n",
    "            'X':10,\n",
    "            'L':50,         #Roma harflerinin sembollerini tanımladık\n",
    "            'C':100,\n",
    "            'D':500,\n",
    "            'M':1000\n",
    "         }\n",
    "        toplam_deger=0             # Toplam değeri saklamak için\n",
    "        n=len(s)                   # roma rakamının uzunluğu\n",
    "\n",
    "        for i in range(n):\n",
    "         # Eğer bir sonraki sembol varsa ve şu anki sembol bir sonrakinden küçükse\n",
    "\n",
    "            if i<n-1 and roma_degerleri[s[i]] < roma_degerleri[s[1+i]]:\n",
    "                toplam_deger -= roma_degerleri[s[i]]\n",
    "\n",
    "            else:\n",
    "                toplam_deger +=  roma_degerleri[s[i]]       \n",
    "\n",
    "\n",
    "        return toplam_deger         \n",
    "     \n",
    "\n",
    "    \n",
    "solution=Solution()\n",
    "\n",
    "print(solution.romanToInt(\"IVVM\"))"
   ]
  },
  {
   "cell_type": "code",
   "execution_count": null,
   "id": "abebaceb",
   "metadata": {},
   "outputs": [],
   "source": []
  }
 ],
 "metadata": {
  "kernelspec": {
   "display_name": "Python 3 (ipykernel)",
   "language": "python",
   "name": "python3"
  },
  "language_info": {
   "codemirror_mode": {
    "name": "ipython",
    "version": 3
   },
   "file_extension": ".py",
   "mimetype": "text/x-python",
   "name": "python",
   "nbconvert_exporter": "python",
   "pygments_lexer": "ipython3",
   "version": "3.11.5"
  }
 },
 "nbformat": 4,
 "nbformat_minor": 5
}

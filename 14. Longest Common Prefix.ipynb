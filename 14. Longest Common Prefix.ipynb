{
 "cells": [
  {
   "cell_type": "code",
   "execution_count": 1,
   "id": "0f10c462",
   "metadata": {},
   "outputs": [],
   "source": [
    "class Solution(object):\n",
    "    def longestCommonPrefix(self, strs):\n",
    "    \n",
    "        if not strs:\n",
    "            return \"\"     # eğer liste boşsa ,boş string döndür\n",
    "            \n",
    "        #en kısa stringi bul\n",
    "        shortest=min(strs,key=len)     \n",
    "                \n",
    "        #en kısa stringin her bir karakterlerini kontrol et\n",
    "        for i,char in enumerate(shortest):\n",
    "            for j in strs:    #diğer stringlerin aynı pozisyonsaki karakterlerini karşılaştır\n",
    "                if j[i] != char: #eğer karakterler eileşmiyorsa \n",
    "                    return shortest[:i]  # o ana kadar bulunan eki döndür\n",
    "        return shortest             \n",
    "\n",
    "\n",
    "\n",
    "            \n",
    "     \n"
   ]
  },
  {
   "cell_type": "code",
   "execution_count": null,
   "id": "18a0b0f7",
   "metadata": {},
   "outputs": [],
   "source": []
  }
 ],
 "metadata": {
  "kernelspec": {
   "display_name": "Python 3 (ipykernel)",
   "language": "python",
   "name": "python3"
  },
  "language_info": {
   "codemirror_mode": {
    "name": "ipython",
    "version": 3
   },
   "file_extension": ".py",
   "mimetype": "text/x-python",
   "name": "python",
   "nbconvert_exporter": "python",
   "pygments_lexer": "ipython3",
   "version": "3.11.5"
  }
 },
 "nbformat": 4,
 "nbformat_minor": 5
}

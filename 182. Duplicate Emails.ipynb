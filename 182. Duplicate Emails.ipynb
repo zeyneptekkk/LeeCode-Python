{
 "cells": [
  {
   "cell_type": "code",
   "execution_count": null,
   "id": "2e35ae7d",
   "metadata": {},
   "outputs": [],
   "source": [
    "import pandas as pd\n",
    "\n",
    "def duplicate_emails(person: pd.DataFrame) -> pd.DataFrame:\n",
    "    tekrar_eden_mail=person[person[\"email\"].duplicated(keep=\"first\")]\n",
    "\n",
    "    tekrar_eden_mail=tekrar_eden_mail.drop(\"id\",axis=1)\n",
    "    \n",
    "    return tekrar_eden_mail"
   ]
  }
 ],
 "metadata": {
  "kernelspec": {
   "display_name": "Python 3 (ipykernel)",
   "language": "python",
   "name": "python3"
  },
  "language_info": {
   "codemirror_mode": {
    "name": "ipython",
    "version": 3
   },
   "file_extension": ".py",
   "mimetype": "text/x-python",
   "name": "python",
   "nbconvert_exporter": "python",
   "pygments_lexer": "ipython3",
   "version": "3.11.5"
  }
 },
 "nbformat": 4,
 "nbformat_minor": 5
}

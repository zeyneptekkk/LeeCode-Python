{
 "cells": [
  {
   "cell_type": "code",
   "execution_count": null,
   "id": "a9a43791",
   "metadata": {},
   "outputs": [],
   "source": [
    "import pandas as pd\n",
    "\n",
    "def find_customers(customers: pd.DataFrame, orders: pd.DataFrame) -> pd.DataFrame:\n",
    "  \n",
    "   customers[\"siparis_verenler\"]=~customers[\"id\"].isin(orders[\"customerId\"])\n",
    "   sonuc = customers[customers[\"siparis_verenler\"] == True][[\"name\"]]\n",
    "   df=pd.DataFrame(sonuc)\n",
    "   df.columns=[\"Customers\"]\n",
    "   return df\n",
    "   "
   ]
  }
 ],
 "metadata": {
  "kernelspec": {
   "display_name": "Python 3 (ipykernel)",
   "language": "python",
   "name": "python3"
  },
  "language_info": {
   "codemirror_mode": {
    "name": "ipython",
    "version": 3
   },
   "file_extension": ".py",
   "mimetype": "text/x-python",
   "name": "python",
   "nbconvert_exporter": "python",
   "pygments_lexer": "ipython3",
   "version": "3.11.5"
  }
 },
 "nbformat": 4,
 "nbformat_minor": 5
}

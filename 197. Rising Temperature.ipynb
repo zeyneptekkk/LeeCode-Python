{
 "cells": [
  {
   "cell_type": "code",
   "execution_count": null,
   "id": "79d162c9",
   "metadata": {},
   "outputs": [],
   "source": [
    "import pandas as pd\n",
    "\n",
    "def rising_temperature(weather: pd.DataFrame) -> pd.DataFrame:\n",
    "    \n",
    "   \n",
    "    \n",
    "    weather[\"önceki_gün\"]=weather[\"temperature\"].shift(1)\n",
    "    weather_sonuc=weather[weather[\"önceki_gün\"]<weather[\"temperature\"]]\n",
    "\n",
    "    dff=weather_sonuc[[\"id\"]]\n",
    "    return dff"
   ]
  }
 ],
 "metadata": {
  "kernelspec": {
   "display_name": "Python 3 (ipykernel)",
   "language": "python",
   "name": "python3"
  },
  "language_info": {
   "codemirror_mode": {
    "name": "ipython",
    "version": 3
   },
   "file_extension": ".py",
   "mimetype": "text/x-python",
   "name": "python",
   "nbconvert_exporter": "python",
   "pygments_lexer": "ipython3",
   "version": "3.11.5"
  }
 },
 "nbformat": 4,
 "nbformat_minor": 5
}

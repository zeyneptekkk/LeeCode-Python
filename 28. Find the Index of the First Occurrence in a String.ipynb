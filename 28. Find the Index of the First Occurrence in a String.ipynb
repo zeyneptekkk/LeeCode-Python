{
 "cells": [
  {
   "cell_type": "code",
   "execution_count": 5,
   "id": "078d0d3c",
   "metadata": {},
   "outputs": [
    {
     "ename": "TypeError",
     "evalue": "strStr() missing 1 required positional argument: 'needle'",
     "output_type": "error",
     "traceback": [
      "\u001b[1;31m---------------------------------------------------------------------------\u001b[0m",
      "\u001b[1;31mTypeError\u001b[0m                                 Traceback (most recent call last)",
      "Cell \u001b[1;32mIn[5], line 4\u001b[0m\n\u001b[0;32m      1\u001b[0m \u001b[38;5;28;01mdef\u001b[39;00m \u001b[38;5;21mstrStr\u001b[39m(\u001b[38;5;28mself\u001b[39m, haystack: \u001b[38;5;28mstr\u001b[39m, needle: \u001b[38;5;28mstr\u001b[39m) \u001b[38;5;241m-\u001b[39m\u001b[38;5;241m>\u001b[39m \u001b[38;5;28mint\u001b[39m:\n\u001b[0;32m      2\u001b[0m        \u001b[38;5;28;01mreturn\u001b[39;00m haystack\u001b[38;5;241m.\u001b[39mfind(needle)  \n\u001b[1;32m----> 4\u001b[0m strStr(\u001b[38;5;124m\"\u001b[39m\u001b[38;5;124malican\u001b[39m\u001b[38;5;124m\"\u001b[39m,\u001b[38;5;124m\"\u001b[39m\u001b[38;5;124mali\u001b[39m\u001b[38;5;124m\"\u001b[39m)\n",
      "\u001b[1;31mTypeError\u001b[0m: strStr() missing 1 required positional argument: 'needle'"
     ]
    }
   ],
   "source": [
    "class Solution:\n",
    "    def strStr(self, haystack: str, needle: str) -> int:\n",
    "        return haystack.find(needle)  \n",
    "\n",
    "        # if needle==\"\":\n",
    "        #     return 0\n",
    "\n",
    "        # for i in range(len(haystack)-len(needle)+1):\n",
    "        #       if haystack[i:i+len(needle)]==needle:\n",
    "        #         return 0\n",
    "        #       else:\n",
    "        #         return -1\n",
    "\n",
    "        "
   ]
  },
  {
   "cell_type": "code",
   "execution_count": null,
   "id": "b270d18e",
   "metadata": {},
   "outputs": [],
   "source": []
  }
 ],
 "metadata": {
  "kernelspec": {
   "display_name": "Python 3 (ipykernel)",
   "language": "python",
   "name": "python3"
  },
  "language_info": {
   "codemirror_mode": {
    "name": "ipython",
    "version": 3
   },
   "file_extension": ".py",
   "mimetype": "text/x-python",
   "name": "python",
   "nbconvert_exporter": "python",
   "pygments_lexer": "ipython3",
   "version": "3.11.5"
  }
 },
 "nbformat": 4,
 "nbformat_minor": 5
}

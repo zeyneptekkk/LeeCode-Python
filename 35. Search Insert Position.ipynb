{
 "cells": [
  {
   "cell_type": "code",
   "execution_count": null,
   "id": "dfbfce0f",
   "metadata": {},
   "outputs": [],
   "source": [
    "class Solution(object):\n",
    "    def searchInsert(self, nums, target):\n",
    "        n=len(nums)\n",
    "        numNew=[]\n",
    "        \n",
    "                                  \n",
    "        for i in range(n):\n",
    "\n",
    "\n",
    "            if nums[i]==target:\n",
    "\n",
    "                return i\n",
    "            else:\n",
    "                                 \n",
    "                if nums[i]<=target:\n",
    "                    numNew.append(nums[i])\n",
    "        a=len(numNew)\n",
    "        return a\n",
    "                            \n"
   ]
  }
 ],
 "metadata": {
  "kernelspec": {
   "display_name": "Python 3 (ipykernel)",
   "language": "python",
   "name": "python3"
  },
  "language_info": {
   "codemirror_mode": {
    "name": "ipython",
    "version": 3
   },
   "file_extension": ".py",
   "mimetype": "text/x-python",
   "name": "python",
   "nbconvert_exporter": "python",
   "pygments_lexer": "ipython3",
   "version": "3.11.5"
  }
 },
 "nbformat": 4,
 "nbformat_minor": 5
}

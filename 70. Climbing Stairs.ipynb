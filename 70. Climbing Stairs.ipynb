{
 "cells": [
  {
   "cell_type": "code",
   "execution_count": null,
   "id": "907db418",
   "metadata": {},
   "outputs": [],
   "source": [
    "class Solution(object):\n",
    "    def climbStairs(self, n):\n",
    "        if(n==0):\n",
    "            return 0\n",
    "        elif(n==1):\n",
    "            return 1 \n",
    "        elif(n==2):\n",
    "            return 2     \n",
    "        a,b=1,2\n",
    "\n",
    "        for i in range(3,n+1):\n",
    "            a,b=b,a+b\n",
    "            \n",
    "\n",
    "        return b\n",
    "    \n",
    "   "
   ]
  }
 ],
 "metadata": {
  "kernelspec": {
   "display_name": "Python 3 (ipykernel)",
   "language": "python",
   "name": "python3"
  },
  "language_info": {
   "codemirror_mode": {
    "name": "ipython",
    "version": 3
   },
   "file_extension": ".py",
   "mimetype": "text/x-python",
   "name": "python",
   "nbconvert_exporter": "python",
   "pygments_lexer": "ipython3",
   "version": "3.11.5"
  }
 },
 "nbformat": 4,
 "nbformat_minor": 5
}

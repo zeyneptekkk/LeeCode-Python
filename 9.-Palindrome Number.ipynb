{
 "cells": [
  {
   "cell_type": "code",
   "execution_count": null,
   "id": "8239818d",
   "metadata": {},
   "outputs": [],
   "source": [
    "class Solution(object):\n",
    "    def isPalindrome(self, x):\n",
    "     \n",
    "     liste=[rakam for rakam in str(x)]\n",
    "     \n",
    "     ters_liste=liste[::-1]   #listeyi ters çevirdik\n",
    "\n",
    "     if ters_liste==liste:\n",
    "       return True\n",
    "     else:\n",
    "        return False\n",
    "\n",
    "\n",
    "solution=Solution()\n",
    "print(solution.isPalindrome(121))"
   ]
  }
 ],
 "metadata": {
  "kernelspec": {
   "display_name": "Python 3 (ipykernel)",
   "language": "python",
   "name": "python3"
  },
  "language_info": {
   "codemirror_mode": {
    "name": "ipython",
    "version": 3
   },
   "file_extension": ".py",
   "mimetype": "text/x-python",
   "name": "python",
   "nbconvert_exporter": "python",
   "pygments_lexer": "ipython3",
   "version": "3.11.5"
  }
 },
 "nbformat": 4,
 "nbformat_minor": 5
}
